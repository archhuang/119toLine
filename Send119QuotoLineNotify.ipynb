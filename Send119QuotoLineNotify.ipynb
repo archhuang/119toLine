{
 "cells": [
  {
   "cell_type": "code",
   "execution_count": 1,
   "metadata": {},
   "outputs": [
    {
     "name": "stdout",
     "output_type": "stream",
     "text": [
      "('2017/09/06 12:14', '緊急救護', ' 車禍', '秀水鄉番花路', ' 秀水分隊', ' 到達現場')\n",
      "<Response [200]>\n",
      "('2017/09/06 12:00', '緊急救護', ' 車禍', '員林市育英路', ' 員林分隊', ' 到達醫院')\n",
      "<Response [200]>\n",
      "('2017/09/06 11:56', '緊急救護', ' 急病', '花壇鄉彰員路一段', ' 大村分隊', ' 到達醫院')\n",
      "<Response [200]>\n",
      "('2017/09/06 11:49', '緊急救護', ' 急病', '溪州鄉成功村頂寮巷', ' 溪州分隊', ' 到達醫院')\n",
      "<Response [200]>\n",
      "('2017/09/06 11:34', '緊急救護', ' 車禍', '鹿港鎮工業西七路和工業東三路的交叉路口', ' 鹿鳴,鹿港分隊', ' 到達醫院')\n",
      "<Response [200]>\n",
      "('2017/09/06 11:55', '其他', ' 捉蛇', '埔心鄉員林大道七段', ' 埔心分隊', ' 已出勤')\n",
      "<Response [200]>\n"
     ]
    }
   ],
   "source": [
    "import requests, json\n",
    "import urllib.parse\n",
    "import sys, time\n",
    "from bs4 import BeautifulSoup\n",
    "\n",
    "r = requests.get('http://web.chfd.gov.tw/current_case.php')\n",
    "soup = BeautifulSoup(r.text, 'html.parser')\n",
    "results = soup.find_all('td',attrs=[{'class','td_english'}, {'class','loginbox'}])\n",
    "records = []\n",
    "for i in range( len(results)//6 ):\n",
    "    occurtime = results[i*6+0].find('font').text\n",
    "    mission = results[i*6+1].find('font').text[1:-1]\n",
    "    event = results[i*6+2].text[0:-1]\n",
    "    location = results[i*6+3].find('font').text[0:-3]\n",
    "    bureau = results[i*6+4].find('font').text[0:-1]\n",
    "    quo = results[i*6+5].find('font').text[0:-1]\n",
    "    records.append((occurtime, mission, event, location, bureau, quo))\n",
    "\n",
    "LINE_ACCESS_TOEKN=\"dCy5NsA6D9DOjEbkxTdbGbua5SK6VuKmS9PelzWQvAq\"\n",
    "url = \"https://notify-api.line.me/api/notify\"\n",
    "\n",
    "LINE_HEADERS = {'Content-Type':'application/x-www-form-urlencoded',\"Authorization\":\"Bearer \"+LINE_ACCESS_TOEKN}\n",
    "session = requests.Session()\n",
    "\n",
    "for msg in records:\n",
    "    print(msg)\n",
    "    line_msg = urllib.parse.urlencode({\"message\": msg})    \n",
    "    post =session.post(url, headers=LINE_HEADERS, data=line_msg)\n",
    "    print(post)\n",
    "    "
   ]
  }
 ],
 "metadata": {
  "kernelspec": {
   "display_name": "Python 2",
   "language": "python",
   "name": "python2"
  },
  "language_info": {
   "codemirror_mode": {
    "name": "ipython",
    "version": 3
   },
   "file_extension": ".py",
   "mimetype": "text/x-python",
   "name": "python",
   "nbconvert_exporter": "python",
   "pygments_lexer": "ipython3",
   "version": "3.6.1"
  }
 },
 "nbformat": 4,
 "nbformat_minor": 2
}
