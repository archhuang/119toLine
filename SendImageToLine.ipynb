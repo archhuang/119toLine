{
 "cells": [
  {
   "cell_type": "code",
   "execution_count": 1,
   "metadata": {},
   "outputs": [
    {
     "name": "stdout",
     "output_type": "stream",
     "text": [
      "<Response [200]>\n"
     ]
    }
   ],
   "source": [
    "import requests\n",
    "\n",
    "LINE_ACCESS_TOEKN=\"dCy5NsA6D9DOjEbkxTdbGbua5SK6VuKmS9PelzWQvAq\"\n",
    "url = \"https://notify-api.line.me/api/notify\"\n",
    "\n",
    "imageFile = \"icon.jpg\"\n",
    "message = \"Send Image\"\n",
    "\n",
    "payload = {\"message\" :  message}\n",
    "files = {\"imageFile\": open( imageFile, \"rb\")}\n",
    "LINE_HEADERS = {\"Authorization\":\"Bearer \"+LINE_ACCESS_TOEKN}\n",
    "session = requests.Session()   \n",
    "post = session.post(url, headers=LINE_HEADERS, params=payload, files=files)\n",
    "print(post)\n",
    "    "
   ]
  }
 ],
 "metadata": {
  "kernelspec": {
   "display_name": "Python 3",
   "language": "python",
   "name": "python3"
  },
  "language_info": {
   "codemirror_mode": {
    "name": "ipython",
    "version": 3
   },
   "file_extension": ".py",
   "mimetype": "text/x-python",
   "name": "python",
   "nbconvert_exporter": "python",
   "pygments_lexer": "ipython3",
   "version": "3.6.1"
  }
 },
 "nbformat": 4,
 "nbformat_minor": 2
}
