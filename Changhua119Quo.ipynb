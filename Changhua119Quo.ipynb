{
 "cells": [
  {
   "cell_type": "markdown",
   "metadata": {},
   "source": [
    "# Get Real-Time 119 Events from Changhua Policy\n"
   ]
  },
  {
   "cell_type": "code",
   "execution_count": 1,
   "metadata": {
    "collapsed": true
   },
   "outputs": [],
   "source": [
    "import requests\n",
    "r = requests.get('http://web.chfd.gov.tw/current_case.php')"
   ]
  },
  {
   "cell_type": "markdown",
   "metadata": {},
   "source": [
    "# Get Html Sample "
   ]
  },
  {
   "cell_type": "code",
   "execution_count": 2,
   "metadata": {},
   "outputs": [
    {
     "name": "stdout",
     "output_type": "stream",
     "text": [
      "\r\n",
      "<!DOCTYPE HTML PUBLIC \"-//W3C//DTD HTML 4.01 Transitional//EN\">\r\n",
      "\r\n",
      "<html>\r\n",
      "<head>\r\n",
      "<title>彰化縣消防局一一九報案系統即時災情</title>\r\n",
      "<meta http-equiv=\"Content-Type\" content=\"text/html; charset=big5\">\r\n",
      "<!-- <meta http-equiv=\"refresh\" content=\"60\">-->\r\n",
      "<!--  link rel=\"stylesheet\" href=\"../Local Settings/Temporary Internet Files/Content.IE5/PG7YG47J/chfd.css\" type=\"text/css\"  -->\r\n",
      "<script language=\"JavaScript\">\r\n",
      "<!--\r\n",
      "//20110520,add by Duke\r\n",
      "function showPlace(cs_place)\r\n",
      "{\r\n",
      "  var u=\"https://www.google.com.tw/maps/place/\" + cs_place;\r\n",
      "  window.open(u,\"chfdmap\");\r\n",
      "}\r\n",
      "\r\n",
      "//-->\r\n",
      "</script>\r\n",
      "  <script language=\"JavaScript\">\r\n",
      "  var t=30;\r\n",
      "  function doChkTime()\r\n",
      "  {\r\n",
      "    t--;\r\n",
      "    CTR.innerHTML=\"\"+t;\r\n",
      "    if(t<=0) window.location.reload();\r\n",
      "  }\r\n",
      "  </script>\r\n",
      "</head>\r\n",
      "\r\n",
      "<body bgcolor=\"#ffffff\"  onLoad=\"setInterval('doChkTime()',1000);\">\r\n",
      "  <p align=\"center\" class=\"page_title_blue\">彰化縣消防局一一九報案系統即時災情</p>\r\n",
      "  <p align=\"center\" class=\"textbox\">資料時間：<span class=\"loginbox\">2017/09/06 10:27:06</span><br></p>\r\n",
      "  \r\n",
      "<table border=1 valign=middle align=center cellpadding=2 cellspacing=2>\n",
      "<tr align=center class=navigation_blue>\n",
      "<th  class=page_title_blue>　</th>\n",
      "<th  class=page_title_blue>受理時間</th>\n",
      "<th  class=page_title_blue>案類</th>\n",
      "<th  class=page_title_blue>案別</th>\n",
      "<th  class=page_title_blue>發生地點</th>\n",
      "<th  class=page_title_blue>派遣分隊</th>\n",
      "<th  class=page_title_blue>執行狀況</th>\n",
      "</tr>\n",
      "<tr>\n",
      "<td align=center><font color='#000000' size=4> 1</font></td>\n",
      "<td class=td_english align=center><font size=4>2017/09/06 10:19</font></td>\n",
      "<td align=center class=loginbox><font color='#000000' size=4> 緊急救護\n",
      "</font></td>\n",
      "<td align=center class=loginbox><font color='#000000' size=4> 急病\n",
      "</font></td>\n",
      "<td class=td_english ><font size=4>彰化市仁愛路137巷\n",
      "&nbsp;&nbsp;<a onclick=\"showPlace('彰化市仁愛路137巷')\" title='圖示說明:查看地圖'><img src=\"../images/allpostion.gif\" alt='圖示說明:查看地圖' onclick=\"showPlace('')\"></a></font></td><td align=center class=loginbox><font color='#000000' size=4> 彰化分隊\n",
      "</font></td>\n",
      "<td align=center class=loginbox><font color='#D66321' size=4> 到達現場\n",
      "</font></td>\n",
      "</tr>\n",
      "<tr>\n",
      "<td align=center><font color='#000000' size=4> 2</font></td>\n",
      "<td class=td_english align=center><font size=4>2017/09/06 10:17</font></td>\n",
      "<td align=center class=loginbox><font color='#000000' size=4> 緊急救護\n",
      "</font></td>\n",
      "<td align=center class=loginbox><font color='#000000' size=4> 創傷\n",
      "</font></td>\n",
      "<td class=td_english ><font size=4>二水鄉員集路四段\n",
      "&nbsp;&nbsp;<a onclick=\"showPlace('二水鄉員集路四段')\" title='圖示說明:查看地圖'><img src=\"../images/allpostion.gif\" alt='圖示說明:查看地圖' onclick=\"showPlace('')\"></a></font></td><td align=center class=loginbox><font color='#000000' size=4> 二水分隊\n",
      "</font></td>\n",
      "<td align=center class=loginbox><font color='#D66321' size=4> 到達現場\n",
      "</font></td>\n",
      "</tr>\n",
      "<tr>\n",
      "<td align=center><font color='#000000' size=4> 3</font></td>\n",
      "<td class=td_english align=center><font size=4>2017/09/06 10:13</font></td>\n",
      "<td align=center class=loginbox><font color='#000000' size=4> 緊急救護\n",
      "</font></td>\n",
      "<td align=center class=loginbox><font color='#000000' size=4> 車禍\n",
      "</font></td>\n",
      "<td class=td_english ><font size=4>芬園鄉139線李舍咖啡\n",
      "&nbsp;&nbsp;<a onclick=\"showPlace('芬園鄉139線李舍咖啡')\" title='圖示說明:查看地圖'><img src=\"../images/allpostion.gif\" alt='圖示說明:查看地圖' onclick=\"showPlace('')\"></a></font></td><td align=center class=loginbox><font color='#000000' size=4> 花壇,芬園分隊\n",
      "</font></td>\n",
      "<td align=center class=loginbox><font color='#D66321' size=4> 到達現場\n",
      "</font></td>\n",
      "</tr>\n",
      "<tr>\n",
      "<td align=center><font color='#000000' size=4> 4</font></td>\n",
      "<td class=td_english align=center><font size=4>2017/09/06 10:07</font></td>\n",
      "<td align=center class=loginbox><font color='#000000' size=4> 緊急救護\n",
      "</font></td>\n",
      "<td align=center class=loginbox><font color='#000000' size=4> 車禍\n",
      "</font></td>\n",
      "<td class=td_english ><font size=4>員林市明倫路\n",
      "&nbsp;&nbsp;<a onclick=\"showPlace('員林市明倫路')\" title='圖示說明:查看地圖'><img src=\"../images/allpostion.gif\" alt='圖示說明:查看地圖' onclick=\"showPlace('')\"></a></font></td><td align=center class=loginbox><font color='#000000' size=4> 員林分隊\n",
      "</font></td>\n",
      "<td align=center class=loginbox><font color='#000000' size=4> 到達醫院\n",
      "</font></td>\n",
      "</tr>\n",
      "<tr>\n",
      "<td align=center><font color='#FF0000' size=4> 5</font></td>\n",
      "<td class=td_english align=center><font size=4>2017/09/06 09:51</font></td>\n",
      "<td align=center class=loginbox><font color='#000000' size=4> 緊急救護\n",
      "</font></td>\n",
      "<td align=center class=loginbox><font color='#000000' size=4> 急病\n",
      "</font></td>\n",
      "<td class=td_english ><font size=4>花壇鄉彰員路二段708巷\n",
      "&nbsp;&nbsp;<a onclick=\"showPlace('花壇鄉彰員路二段708巷')\" title='圖示說明:查看地圖'><img src=\"../images/allpostion.gif\" alt='圖示說明:查看地圖' onclick=\"showPlace('')\"></a></font></td><td align=center class=loginbox><font color='#000000' size=4> 花壇分隊\n",
      "</font></td>\n",
      "<td align=center class=loginbox><font color='#000000' size=4> 到達醫院\n",
      "</font></td>\n",
      "</tr>\n",
      "<tr>\n",
      "<td align=center><font color='#000000' size=4> 6</font></td>\n",
      "<td class=td_english align=center><font size=4>2017/09/06 09:50</font></td>\n",
      "<td align=center class=loginbox><font color='#000000' size=4> 緊急救護\n",
      "</font></td>\n",
      "<td align=center class=loginbox><font color='#000000' size=4> 車禍\n",
      "</font></td>\n",
      "<td class=td_english ><font size=4>伸港鄉伸港分駐所旁路口\n",
      "&nbsp;&nbsp;<a onclick=\"showPlace('伸港鄉伸港分駐所旁路口')\" title='圖示說明:查看地圖'><img src=\"../images/allpostion.gif\" alt='圖示說明:查看地圖' onclick=\"showPlace('')\"></a></font></td><td align=center class=loginbox><font color='#000000' size=4> 伸港分隊\n",
      "</font></td>\n",
      "<td align=center class=loginbox><font color='#000000' size=4> 到達醫院\n",
      "</font></td>\n",
      "</tr>\n",
      "<tr>\n",
      "<td align=center><font color='#000000' size=4> 7</font></td>\n",
      "<td class=td_english align=center><font size=4>2017/09/06 09:40</font></td>\n",
      "<td align=center class=loginbox><font color='#000000' size=4> 緊急救護\n",
      "</font></td>\n",
      "<td align=center class=loginbox>急病\n",
      "</font></td>\n",
      "<td class=td_english ><font size=4>員林市莒光路780巷\n",
      "&nbsp;&nbsp;<a onclick=\"showPlace('員林市莒光路780巷')\" title='圖示說明:查看地圖'><img src=\"../images/allpostion.gif\" alt='圖示說明:查看地圖' onclick=\"showPlace('')\"></a></font></td><td align=center class=loginbox><font color='#000000' size=4> 西區分隊\n",
      "</font></td>\n",
      "<td align=center class=loginbox><font color='#000000' size=4> 到達醫院\n",
      "</font></td>\n",
      "</tr>\n",
      "<tr>\n",
      "<td align=center><font color='#000000' size=4> 8</font></td>\n",
      "<td class=td_english align=center><font size=4>2017/09/06 09:36</font></td>\n",
      "<td align=center class=loginbox><font color='#000000' size=4> 緊急救護\n",
      "</font></td>\n",
      "<td align=center class=loginbox><font color='#000000' size=4> 急病\n",
      "</font></td>\n",
      "<td class=td_english ><font size=4>社頭鄉社頭國民中學[社頭鄉中興路\n",
      "&nbsp;&nbsp;<a onclick=\"showPlace('社頭鄉社頭國民中學[彰化縣社頭鄉中興路')\" title='圖示說明:查看地圖'><img src=\"../images/allpostion.gif\" alt='圖示說明:查看地圖' onclick=\"showPlace('')\"></a></font></td><td align=center class=loginbox><font color='#000000' size=4> 社頭分隊\n",
      "</font></td>\n",
      "<td align=center class=loginbox><font color='#000000' size=4> 到達醫院\n",
      "</font></td>\n",
      "</tr>\n",
      "<tr>\n",
      "<td align=center><font color='#000000' size=4> 9</font></td>\n",
      "<td class=td_english align=center><font size=4>2017/09/06 10:03</font></td>\n",
      "<td align=center class=loginbox><font color='#FF0000' size=4> 火災\n",
      "</font></td>\n",
      "<td align=center class=loginbox><font color='#FF0000' size=4> 一般(集合)住宅\n",
      "</font></td>\n",
      "<td class=td_english ><font size=4>芬園鄉和平路65巷\n",
      "&nbsp;&nbsp;<a onclick=\"showPlace('芬園鄉和平路65巷')\" title='圖示說明:查看地圖'><img src=\"../images/allpostion.gif\" alt='圖示說明:查看地圖' onclick=\"showPlace('')\"></a></font></td><td align=center class=loginbox><font color='#FF0000' size=4> 芬園,員林分隊\n",
      "</font></td>\n",
      "<td align=center class=loginbox><font color='#FF0000' size=4> 已出勤\n",
      "</font></td>\n",
      "</tr>\n",
      "</table>\n",
      "  <p align=\"center\">\r\n",
      "    <input type=\"button\" value=\"關閉視窗\" onClick=\"window.close()\" OnKeyPress=\"window.close()\">\r\n",
      "    <input type=\"button\" value=\"手動更新\" onClick=\"location.reload()\" OnKeyPress=\"location.reload()\">&nbsp;&nbsp;&nbsp;&nbsp;\r\n",
      "    <img src=\"/images/allpostion.gif\" alt=\"圖示說明:查看地圖\" title=\"圖示說明:查看地圖\">&nbsp;圖示說明:查看地圖\r\n",
      "  </p>\r\n",
      "\t  \t<font color='#FFFFFF' size=2>   <div id=\"CTR\">30</div>\r\n",
      "\t</font> </body>\r\n",
      "</html>\r\n",
      "\n"
     ]
    }
   ],
   "source": [
    "print(r.text)"
   ]
  },
  {
   "cell_type": "markdown",
   "metadata": {},
   "source": [
    "# Parse Processing"
   ]
  },
  {
   "cell_type": "code",
   "execution_count": 3,
   "metadata": {
    "collapsed": true
   },
   "outputs": [],
   "source": [
    "from bs4 import BeautifulSoup\n",
    "soup = BeautifulSoup(r.text, 'html.parser')"
   ]
  },
  {
   "cell_type": "code",
   "execution_count": 4,
   "metadata": {
    "collapsed": true
   },
   "outputs": [],
   "source": [
    "results = soup.find_all('td',attrs=[{'class','td_english'}, {'class','loginbox'}])"
   ]
  },
  {
   "cell_type": "markdown",
   "metadata": {},
   "source": [
    "# One Record"
   ]
  },
  {
   "cell_type": "code",
   "execution_count": 5,
   "metadata": {},
   "outputs": [
    {
     "data": {
      "text/plain": [
       "[<td align=\"center\" class=\"td_english\"><font size=\"4\">2017/09/06 10:19</font></td>,\n",
       " <td align=\"center\" class=\"loginbox\"><font color=\"#000000\" size=\"4\"> 緊急救護\n",
       " </font></td>,\n",
       " <td align=\"center\" class=\"loginbox\"><font color=\"#000000\" size=\"4\"> 急病\n",
       " </font></td>,\n",
       " <td class=\"td_english\"><font size=\"4\">彰化市仁愛路137巷\n",
       "   <a onclick=\"showPlace('彰化市仁愛路137巷')\" title=\"圖示說明:查看地圖\"><img alt=\"圖示說明:查看地圖\" onclick=\"showPlace('')\" src=\"../images/allpostion.gif\"/></a></font></td>,\n",
       " <td align=\"center\" class=\"loginbox\"><font color=\"#000000\" size=\"4\"> 彰化分隊\n",
       " </font></td>,\n",
       " <td align=\"center\" class=\"loginbox\"><font color=\"#D66321\" size=\"4\"> 到達現場\n",
       " </font></td>]"
      ]
     },
     "execution_count": 5,
     "metadata": {},
     "output_type": "execute_result"
    }
   ],
   "source": [
    "results[0:6]"
   ]
  },
  {
   "cell_type": "markdown",
   "metadata": {},
   "source": [
    "# Fetch Row"
   ]
  },
  {
   "cell_type": "code",
   "execution_count": 6,
   "metadata": {},
   "outputs": [
    {
     "data": {
      "text/plain": [
       "<td align=\"center\" class=\"td_english\"><font size=\"4\">2017/09/06 10:19</font></td>"
      ]
     },
     "execution_count": 6,
     "metadata": {},
     "output_type": "execute_result"
    }
   ],
   "source": [
    "d1 = results[0]\n",
    "d1"
   ]
  },
  {
   "cell_type": "code",
   "execution_count": 7,
   "metadata": {},
   "outputs": [
    {
     "data": {
      "text/plain": [
       "'2017/09/06 10:19'"
      ]
     },
     "execution_count": 7,
     "metadata": {},
     "output_type": "execute_result"
    }
   ],
   "source": [
    "d1 = d1.find('font').text\n",
    "d1"
   ]
  },
  {
   "cell_type": "code",
   "execution_count": 8,
   "metadata": {},
   "outputs": [
    {
     "data": {
      "text/plain": [
       "'緊急救護'"
      ]
     },
     "execution_count": 8,
     "metadata": {},
     "output_type": "execute_result"
    }
   ],
   "source": [
    "d2 = results[1]\n",
    "d2 = d2.find('font').text[1:-1]\n",
    "d2"
   ]
  },
  {
   "cell_type": "code",
   "execution_count": 9,
   "metadata": {},
   "outputs": [
    {
     "data": {
      "text/plain": [
       "' 急病'"
      ]
     },
     "execution_count": 9,
     "metadata": {},
     "output_type": "execute_result"
    }
   ],
   "source": [
    "d3 = results[2]\n",
    "d3 = d3.text[0:-1]\n",
    "d3"
   ]
  },
  {
   "cell_type": "code",
   "execution_count": 10,
   "metadata": {},
   "outputs": [
    {
     "data": {
      "text/plain": [
       "'彰化市仁愛路137巷'"
      ]
     },
     "execution_count": 10,
     "metadata": {},
     "output_type": "execute_result"
    }
   ],
   "source": [
    "d4 = results[3]\n",
    "d4 = d4.find('font').text[0:-3]\n",
    "d4 "
   ]
  },
  {
   "cell_type": "code",
   "execution_count": 11,
   "metadata": {},
   "outputs": [
    {
     "data": {
      "text/plain": [
       "' 彰化分隊'"
      ]
     },
     "execution_count": 11,
     "metadata": {},
     "output_type": "execute_result"
    }
   ],
   "source": [
    "d5 = results[4]\n",
    "d5 = d5.find('font').text[0:-1]\n",
    "d5 "
   ]
  },
  {
   "cell_type": "code",
   "execution_count": 12,
   "metadata": {},
   "outputs": [
    {
     "data": {
      "text/plain": [
       "' 到達現場'"
      ]
     },
     "execution_count": 12,
     "metadata": {},
     "output_type": "execute_result"
    }
   ],
   "source": [
    "d6 = results[5]\n",
    "d6 = d6.find('font').text[0:-1]\n",
    "d6 "
   ]
  },
  {
   "cell_type": "markdown",
   "metadata": {},
   "source": [
    "# Count TDs and Consolidate to Records"
   ]
  },
  {
   "cell_type": "code",
   "execution_count": 13,
   "metadata": {},
   "outputs": [
    {
     "data": {
      "text/plain": [
       "54"
      ]
     },
     "execution_count": 13,
     "metadata": {},
     "output_type": "execute_result"
    }
   ],
   "source": [
    "len(results)"
   ]
  },
  {
   "cell_type": "code",
   "execution_count": 14,
   "metadata": {},
   "outputs": [
    {
     "data": {
      "text/plain": [
       "[<td align=\"center\" class=\"td_english\"><font size=\"4\">2017/09/06 10:19</font></td>,\n",
       " <td align=\"center\" class=\"loginbox\"><font color=\"#000000\" size=\"4\"> 緊急救護\n",
       " </font></td>,\n",
       " <td align=\"center\" class=\"loginbox\"><font color=\"#000000\" size=\"4\"> 急病\n",
       " </font></td>,\n",
       " <td class=\"td_english\"><font size=\"4\">彰化市仁愛路137巷\n",
       "   <a onclick=\"showPlace('彰化市仁愛路137巷')\" title=\"圖示說明:查看地圖\"><img alt=\"圖示說明:查看地圖\" onclick=\"showPlace('')\" src=\"../images/allpostion.gif\"/></a></font></td>,\n",
       " <td align=\"center\" class=\"loginbox\"><font color=\"#000000\" size=\"4\"> 彰化分隊\n",
       " </font></td>,\n",
       " <td align=\"center\" class=\"loginbox\"><font color=\"#D66321\" size=\"4\"> 到達現場\n",
       " </font></td>,\n",
       " <td align=\"center\" class=\"td_english\"><font size=\"4\">2017/09/06 10:17</font></td>,\n",
       " <td align=\"center\" class=\"loginbox\"><font color=\"#000000\" size=\"4\"> 緊急救護\n",
       " </font></td>,\n",
       " <td align=\"center\" class=\"loginbox\"><font color=\"#000000\" size=\"4\"> 創傷\n",
       " </font></td>,\n",
       " <td class=\"td_english\"><font size=\"4\">二水鄉員集路四段\n",
       "   <a onclick=\"showPlace('二水鄉員集路四段')\" title=\"圖示說明:查看地圖\"><img alt=\"圖示說明:查看地圖\" onclick=\"showPlace('')\" src=\"../images/allpostion.gif\"/></a></font></td>,\n",
       " <td align=\"center\" class=\"loginbox\"><font color=\"#000000\" size=\"4\"> 二水分隊\n",
       " </font></td>,\n",
       " <td align=\"center\" class=\"loginbox\"><font color=\"#D66321\" size=\"4\"> 到達現場\n",
       " </font></td>,\n",
       " <td align=\"center\" class=\"td_english\"><font size=\"4\">2017/09/06 10:13</font></td>,\n",
       " <td align=\"center\" class=\"loginbox\"><font color=\"#000000\" size=\"4\"> 緊急救護\n",
       " </font></td>,\n",
       " <td align=\"center\" class=\"loginbox\"><font color=\"#000000\" size=\"4\"> 車禍\n",
       " </font></td>,\n",
       " <td class=\"td_english\"><font size=\"4\">芬園鄉139線李舍咖啡\n",
       "   <a onclick=\"showPlace('芬園鄉139線李舍咖啡')\" title=\"圖示說明:查看地圖\"><img alt=\"圖示說明:查看地圖\" onclick=\"showPlace('')\" src=\"../images/allpostion.gif\"/></a></font></td>,\n",
       " <td align=\"center\" class=\"loginbox\"><font color=\"#000000\" size=\"4\"> 花壇,芬園分隊\n",
       " </font></td>,\n",
       " <td align=\"center\" class=\"loginbox\"><font color=\"#D66321\" size=\"4\"> 到達現場\n",
       " </font></td>,\n",
       " <td align=\"center\" class=\"td_english\"><font size=\"4\">2017/09/06 10:07</font></td>,\n",
       " <td align=\"center\" class=\"loginbox\"><font color=\"#000000\" size=\"4\"> 緊急救護\n",
       " </font></td>,\n",
       " <td align=\"center\" class=\"loginbox\"><font color=\"#000000\" size=\"4\"> 車禍\n",
       " </font></td>,\n",
       " <td class=\"td_english\"><font size=\"4\">員林市明倫路\n",
       "   <a onclick=\"showPlace('員林市明倫路')\" title=\"圖示說明:查看地圖\"><img alt=\"圖示說明:查看地圖\" onclick=\"showPlace('')\" src=\"../images/allpostion.gif\"/></a></font></td>,\n",
       " <td align=\"center\" class=\"loginbox\"><font color=\"#000000\" size=\"4\"> 員林分隊\n",
       " </font></td>,\n",
       " <td align=\"center\" class=\"loginbox\"><font color=\"#000000\" size=\"4\"> 到達醫院\n",
       " </font></td>,\n",
       " <td align=\"center\" class=\"td_english\"><font size=\"4\">2017/09/06 09:51</font></td>,\n",
       " <td align=\"center\" class=\"loginbox\"><font color=\"#000000\" size=\"4\"> 緊急救護\n",
       " </font></td>,\n",
       " <td align=\"center\" class=\"loginbox\"><font color=\"#000000\" size=\"4\"> 急病\n",
       " </font></td>,\n",
       " <td class=\"td_english\"><font size=\"4\">花壇鄉彰員路二段708巷\n",
       "   <a onclick=\"showPlace('花壇鄉彰員路二段708巷')\" title=\"圖示說明:查看地圖\"><img alt=\"圖示說明:查看地圖\" onclick=\"showPlace('')\" src=\"../images/allpostion.gif\"/></a></font></td>,\n",
       " <td align=\"center\" class=\"loginbox\"><font color=\"#000000\" size=\"4\"> 花壇分隊\n",
       " </font></td>,\n",
       " <td align=\"center\" class=\"loginbox\"><font color=\"#000000\" size=\"4\"> 到達醫院\n",
       " </font></td>,\n",
       " <td align=\"center\" class=\"td_english\"><font size=\"4\">2017/09/06 09:50</font></td>,\n",
       " <td align=\"center\" class=\"loginbox\"><font color=\"#000000\" size=\"4\"> 緊急救護\n",
       " </font></td>,\n",
       " <td align=\"center\" class=\"loginbox\"><font color=\"#000000\" size=\"4\"> 車禍\n",
       " </font></td>,\n",
       " <td class=\"td_english\"><font size=\"4\">伸港鄉伸港分駐所旁路口\n",
       "   <a onclick=\"showPlace('伸港鄉伸港分駐所旁路口')\" title=\"圖示說明:查看地圖\"><img alt=\"圖示說明:查看地圖\" onclick=\"showPlace('')\" src=\"../images/allpostion.gif\"/></a></font></td>,\n",
       " <td align=\"center\" class=\"loginbox\"><font color=\"#000000\" size=\"4\"> 伸港分隊\n",
       " </font></td>,\n",
       " <td align=\"center\" class=\"loginbox\"><font color=\"#000000\" size=\"4\"> 到達醫院\n",
       " </font></td>,\n",
       " <td align=\"center\" class=\"td_english\"><font size=\"4\">2017/09/06 09:40</font></td>,\n",
       " <td align=\"center\" class=\"loginbox\"><font color=\"#000000\" size=\"4\"> 緊急救護\n",
       " </font></td>,\n",
       " <td align=\"center\" class=\"loginbox\">急病\n",
       " </td>,\n",
       " <td class=\"td_english\"><font size=\"4\">員林市莒光路780巷\n",
       "   <a onclick=\"showPlace('員林市莒光路780巷')\" title=\"圖示說明:查看地圖\"><img alt=\"圖示說明:查看地圖\" onclick=\"showPlace('')\" src=\"../images/allpostion.gif\"/></a></font></td>,\n",
       " <td align=\"center\" class=\"loginbox\"><font color=\"#000000\" size=\"4\"> 西區分隊\n",
       " </font></td>,\n",
       " <td align=\"center\" class=\"loginbox\"><font color=\"#000000\" size=\"4\"> 到達醫院\n",
       " </font></td>,\n",
       " <td align=\"center\" class=\"td_english\"><font size=\"4\">2017/09/06 09:36</font></td>,\n",
       " <td align=\"center\" class=\"loginbox\"><font color=\"#000000\" size=\"4\"> 緊急救護\n",
       " </font></td>,\n",
       " <td align=\"center\" class=\"loginbox\"><font color=\"#000000\" size=\"4\"> 急病\n",
       " </font></td>,\n",
       " <td class=\"td_english\"><font size=\"4\">社頭鄉社頭國民中學[社頭鄉中興路\n",
       "   <a onclick=\"showPlace('社頭鄉社頭國民中學[彰化縣社頭鄉中興路')\" title=\"圖示說明:查看地圖\"><img alt=\"圖示說明:查看地圖\" onclick=\"showPlace('')\" src=\"../images/allpostion.gif\"/></a></font></td>,\n",
       " <td align=\"center\" class=\"loginbox\"><font color=\"#000000\" size=\"4\"> 社頭分隊\n",
       " </font></td>,\n",
       " <td align=\"center\" class=\"loginbox\"><font color=\"#000000\" size=\"4\"> 到達醫院\n",
       " </font></td>,\n",
       " <td align=\"center\" class=\"td_english\"><font size=\"4\">2017/09/06 10:03</font></td>,\n",
       " <td align=\"center\" class=\"loginbox\"><font color=\"#FF0000\" size=\"4\"> 火災\n",
       " </font></td>,\n",
       " <td align=\"center\" class=\"loginbox\"><font color=\"#FF0000\" size=\"4\"> 一般(集合)住宅\n",
       " </font></td>,\n",
       " <td class=\"td_english\"><font size=\"4\">芬園鄉和平路65巷\n",
       "   <a onclick=\"showPlace('芬園鄉和平路65巷')\" title=\"圖示說明:查看地圖\"><img alt=\"圖示說明:查看地圖\" onclick=\"showPlace('')\" src=\"../images/allpostion.gif\"/></a></font></td>,\n",
       " <td align=\"center\" class=\"loginbox\"><font color=\"#FF0000\" size=\"4\"> 芬園,員林分隊\n",
       " </font></td>,\n",
       " <td align=\"center\" class=\"loginbox\"><font color=\"#FF0000\" size=\"4\"> 已出勤\n",
       " </font></td>]"
      ]
     },
     "execution_count": 14,
     "metadata": {},
     "output_type": "execute_result"
    }
   ],
   "source": [
    "results"
   ]
  },
  {
   "cell_type": "code",
   "execution_count": 15,
   "metadata": {
    "collapsed": true
   },
   "outputs": [],
   "source": [
    "records = []\n",
    "for i in range( len(results)//6 ):\n",
    "    occurtime = results[i*6+0].find('font').text\n",
    "    mission = results[i*6+1].find('font').text[1:-1]\n",
    "    event = results[i*6+2].text[0:-1]\n",
    "    location = results[i*6+3].find('font').text[0:-3]\n",
    "    bureau = results[i*6+4].find('font').text[0:-1]\n",
    "    quo = results[i*6+5].find('font').text[0:-1]\n",
    "    records.append((occurtime, mission, event, location, bureau, quo))"
   ]
  },
  {
   "cell_type": "code",
   "execution_count": 16,
   "metadata": {},
   "outputs": [
    {
     "data": {
      "text/plain": [
       "[('2017/09/06 10:19', '緊急救護', ' 急病', '彰化市仁愛路137巷', ' 彰化分隊', ' 到達現場'),\n",
       " ('2017/09/06 10:17', '緊急救護', ' 創傷', '二水鄉員集路四段', ' 二水分隊', ' 到達現場'),\n",
       " ('2017/09/06 10:13', '緊急救護', ' 車禍', '芬園鄉139線李舍咖啡', ' 花壇,芬園分隊', ' 到達現場'),\n",
       " ('2017/09/06 10:07', '緊急救護', ' 車禍', '員林市明倫路', ' 員林分隊', ' 到達醫院'),\n",
       " ('2017/09/06 09:51', '緊急救護', ' 急病', '花壇鄉彰員路二段708巷', ' 花壇分隊', ' 到達醫院'),\n",
       " ('2017/09/06 09:50', '緊急救護', ' 車禍', '伸港鄉伸港分駐所旁路口', ' 伸港分隊', ' 到達醫院'),\n",
       " ('2017/09/06 09:40', '緊急救護', '急病', '員林市莒光路780巷', ' 西區分隊', ' 到達醫院'),\n",
       " ('2017/09/06 09:36', '緊急救護', ' 急病', '社頭鄉社頭國民中學[社頭鄉中興路', ' 社頭分隊', ' 到達醫院'),\n",
       " ('2017/09/06 10:03', '火災', ' 一般(集合)住宅', '芬園鄉和平路65巷', ' 芬園,員林分隊', ' 已出勤')]"
      ]
     },
     "execution_count": 16,
     "metadata": {},
     "output_type": "execute_result"
    }
   ],
   "source": [
    "records"
   ]
  }
 ],
 "metadata": {
  "kernelspec": {
   "display_name": "Python 3",
   "language": "python",
   "name": "python3"
  },
  "language_info": {
   "codemirror_mode": {
    "name": "ipython",
    "version": 3
   },
   "file_extension": ".py",
   "mimetype": "text/x-python",
   "name": "python",
   "nbconvert_exporter": "python",
   "pygments_lexer": "ipython3",
   "version": "3.6.1"
  }
 },
 "nbformat": 4,
 "nbformat_minor": 2
}
